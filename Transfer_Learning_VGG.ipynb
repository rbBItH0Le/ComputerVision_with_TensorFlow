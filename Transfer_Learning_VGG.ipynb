{
  "nbformat": 4,
  "nbformat_minor": 0,
  "metadata": {
    "colab": {
      "provenance": []
    },
    "kernelspec": {
      "name": "python3",
      "display_name": "Python 3"
    },
    "language_info": {
      "name": "python"
    }
  },
  "cells": [
    {
      "cell_type": "code",
      "execution_count": 17,
      "metadata": {
        "id": "vUeaLGyjVaio"
      },
      "outputs": [],
      "source": [
        "from tensorflow.keras.layers import Dense,Flatten,Lambda,Input\n",
        "from tensorflow.keras.models import Model"
      ]
    },
    {
      "cell_type": "code",
      "source": [
        "from tensorflow.keras.applications.vgg16 import VGG16\n",
        "from tensorflow.keras.applications.vgg16 import preprocess_input"
      ],
      "metadata": {
        "id": "a4PuNSujYege"
      },
      "execution_count": 22,
      "outputs": []
    },
    {
      "cell_type": "code",
      "source": [
        "from tensorflow.keras.preprocessing import image"
      ],
      "metadata": {
        "id": "-ipIFlvTYtcr"
      },
      "execution_count": 5,
      "outputs": []
    },
    {
      "cell_type": "code",
      "source": [
        "from tensorflow.keras.preprocessing.image import ImageDataGenerator"
      ],
      "metadata": {
        "id": "ozNtFG7SZBiS"
      },
      "execution_count": 6,
      "outputs": []
    },
    {
      "cell_type": "code",
      "source": [
        "from sklearn.metrics import confusion_matrix\n",
        "import numpy as np\n",
        "import matplotlib.pyplot as plt\n",
        "\n",
        "from glob import glob"
      ],
      "metadata": {
        "id": "uwLrfUSMZKlG"
      },
      "execution_count": 7,
      "outputs": []
    },
    {
      "cell_type": "code",
      "source": [
        "IMAGE_SIZE = [100, 100] \n",
        "epochs = 5\n",
        "batch_size = 32"
      ],
      "metadata": {
        "id": "DF9ol28fZPZ-"
      },
      "execution_count": 8,
      "outputs": []
    },
    {
      "cell_type": "code",
      "source": [
        "!unzip dataset.zip"
      ],
      "metadata": {
        "colab": {
          "base_uri": "https://localhost:8080/"
        },
        "id": "ufJ9d8XGaEWO",
        "outputId": "4f4177eb-c9ba-4adc-b144-85735f240b98"
      },
      "execution_count": 9,
      "outputs": [
        {
          "output_type": "stream",
          "name": "stdout",
          "text": [
            "Archive:  dataset.zip\n",
            "   creating: dataset/training/\n",
            "   creating: dataset/training/cats/\n",
            "  inflating: dataset/training/cats/cat.100.jpg  \n",
            "  inflating: dataset/training/cats/cat.101.jpg  \n",
            "  inflating: dataset/training/cats/cat.102.jpg  \n",
            "  inflating: dataset/training/cats/cat.103.jpg  \n",
            "  inflating: dataset/training/cats/cat.104.jpg  \n",
            "  inflating: dataset/training/cats/cat.105.jpg  \n",
            "  inflating: dataset/training/cats/cat.106.jpg  \n",
            "  inflating: dataset/training/cats/cat.107.jpg  \n",
            "  inflating: dataset/training/cats/cat.108.jpg  \n",
            "  inflating: dataset/training/cats/cat.109.jpg  \n",
            "  inflating: dataset/training/cats/cat.110.jpg  \n",
            "  inflating: dataset/training/cats/cat.111.jpg  \n",
            "  inflating: dataset/training/cats/cat.112.jpg  \n",
            "  inflating: dataset/training/cats/cat.113.jpg  \n",
            "  inflating: dataset/training/cats/cat.114.jpg  \n",
            "  inflating: dataset/training/cats/cat.115.jpg  \n",
            "  inflating: dataset/training/cats/cat.116.jpg  \n",
            "  inflating: dataset/training/cats/cat.117.jpg  \n",
            "  inflating: dataset/training/cats/cat.118.jpg  \n",
            "  inflating: dataset/training/cats/cat.119.jpg  \n",
            "  inflating: dataset/training/cats/cat.120.jpg  \n",
            "  inflating: dataset/training/cats/cat.121.jpg  \n",
            "  inflating: dataset/training/cats/cat.122.jpg  \n",
            "  inflating: dataset/training/cats/cat.123.jpg  \n",
            "  inflating: dataset/training/cats/cat.124.jpg  \n",
            "  inflating: dataset/training/cats/cat.125.jpg  \n",
            "  inflating: dataset/training/cats/cat.126.jpg  \n",
            "  inflating: dataset/training/cats/cat.127.jpg  \n",
            "  inflating: dataset/training/cats/cat.128.jpg  \n",
            "  inflating: dataset/training/cats/cat.129.jpg  \n",
            "  inflating: dataset/training/cats/cat.130.jpg  \n",
            "  inflating: dataset/training/cats/cat.131.jpg  \n",
            "  inflating: dataset/training/cats/cat.132.jpg  \n",
            "  inflating: dataset/training/cats/cat.133.jpg  \n",
            "  inflating: dataset/training/cats/cat.134.jpg  \n",
            "  inflating: dataset/training/cats/cat.135.jpg  \n",
            "  inflating: dataset/training/cats/cat.136.jpg  \n",
            "  inflating: dataset/training/cats/cat.137.jpg  \n",
            "  inflating: dataset/training/cats/cat.138.jpg  \n",
            "  inflating: dataset/training/cats/cat.139.jpg  \n",
            "  inflating: dataset/training/cats/cat.140.jpg  \n",
            "  inflating: dataset/training/cats/cat.141.jpg  \n",
            "  inflating: dataset/training/cats/cat.142.jpg  \n",
            "  inflating: dataset/training/cats/cat.143.jpg  \n",
            "  inflating: dataset/training/cats/cat.144.jpg  \n",
            "  inflating: dataset/training/cats/cat.145.jpg  \n",
            "  inflating: dataset/training/cats/cat.146.jpg  \n",
            "  inflating: dataset/training/cats/cat.147.jpg  \n",
            "  inflating: dataset/training/cats/cat.148.jpg  \n",
            "  inflating: dataset/training/cats/cat.149.jpg  \n",
            "  inflating: dataset/training/cats/cat.150.jpg  \n",
            "  inflating: dataset/training/cats/cat.151.jpg  \n",
            "  inflating: dataset/training/cats/cat.152.jpg  \n",
            "  inflating: dataset/training/cats/cat.153.jpg  \n",
            "  inflating: dataset/training/cats/cat.154.jpg  \n",
            "  inflating: dataset/training/cats/cat.155.jpg  \n",
            "  inflating: dataset/training/cats/cat.156.jpg  \n",
            "  inflating: dataset/training/cats/cat.157.jpg  \n",
            "  inflating: dataset/training/cats/cat.158.jpg  \n",
            "  inflating: dataset/training/cats/cat.159.jpg  \n",
            "  inflating: dataset/training/cats/cat.160.jpg  \n",
            "  inflating: dataset/training/cats/cat.161.jpg  \n",
            "  inflating: dataset/training/cats/cat.162.jpg  \n",
            "  inflating: dataset/training/cats/cat.163.jpg  \n",
            "  inflating: dataset/training/cats/cat.164.jpg  \n",
            "  inflating: dataset/training/cats/cat.165.jpg  \n",
            "  inflating: dataset/training/cats/cat.166.jpg  \n",
            "  inflating: dataset/training/cats/cat.167.jpg  \n",
            "  inflating: dataset/training/cats/cat.168.jpg  \n",
            "  inflating: dataset/training/cats/cat.169.jpg  \n",
            "  inflating: dataset/training/cats/cat.170.jpg  \n",
            "  inflating: dataset/training/cats/cat.171.jpg  \n",
            "  inflating: dataset/training/cats/cat.172.jpg  \n",
            "  inflating: dataset/training/cats/cat.173.jpg  \n",
            "  inflating: dataset/training/cats/cat.174.jpg  \n",
            "  inflating: dataset/training/cats/cat.175.jpg  \n",
            "  inflating: dataset/training/cats/cat.176.jpg  \n",
            "  inflating: dataset/training/cats/cat.177.jpg  \n",
            "  inflating: dataset/training/cats/cat.178.jpg  \n",
            "  inflating: dataset/training/cats/cat.179.jpg  \n",
            "  inflating: dataset/training/cats/cat.180.jpg  \n",
            "  inflating: dataset/training/cats/cat.181.jpg  \n",
            "  inflating: dataset/training/cats/cat.182.jpg  \n",
            "  inflating: dataset/training/cats/cat.183.jpg  \n",
            "  inflating: dataset/training/cats/cat.184.jpg  \n",
            "  inflating: dataset/training/cats/cat.185.jpg  \n",
            "  inflating: dataset/training/cats/cat.186.jpg  \n",
            "  inflating: dataset/training/cats/cat.187.jpg  \n",
            "  inflating: dataset/training/cats/cat.188.jpg  \n",
            "  inflating: dataset/training/cats/cat.189.jpg  \n",
            "  inflating: dataset/training/cats/cat.190.jpg  \n",
            "  inflating: dataset/training/cats/cat.191.jpg  \n",
            "  inflating: dataset/training/cats/cat.192.jpg  \n",
            "  inflating: dataset/training/cats/cat.193.jpg  \n",
            "  inflating: dataset/training/cats/cat.194.jpg  \n",
            "  inflating: dataset/training/cats/cat.195.jpg  \n",
            "  inflating: dataset/training/cats/cat.196.jpg  \n",
            "  inflating: dataset/training/cats/cat.197.jpg  \n",
            "  inflating: dataset/training/cats/cat.198.jpg  \n",
            "  inflating: dataset/training/cats/cat.199.jpg  \n",
            "  inflating: dataset/training/cats/cat.200.jpg  \n",
            "  inflating: dataset/training/cats/cat.201.jpg  \n",
            "  inflating: dataset/training/cats/cat.202.jpg  \n",
            "  inflating: dataset/training/cats/cat.50.jpg  \n",
            "  inflating: dataset/training/cats/cat.51.jpg  \n",
            "  inflating: dataset/training/cats/cat.52.jpg  \n",
            "  inflating: dataset/training/cats/cat.53.jpg  \n",
            "  inflating: dataset/training/cats/cat.54.jpg  \n",
            "  inflating: dataset/training/cats/cat.55.jpg  \n",
            "  inflating: dataset/training/cats/cat.56.jpg  \n",
            "  inflating: dataset/training/cats/cat.57.jpg  \n",
            "  inflating: dataset/training/cats/cat.58.jpg  \n",
            "  inflating: dataset/training/cats/cat.59.jpg  \n",
            "  inflating: dataset/training/cats/cat.60.jpg  \n",
            "  inflating: dataset/training/cats/cat.61.jpg  \n",
            "  inflating: dataset/training/cats/cat.62.jpg  \n",
            "  inflating: dataset/training/cats/cat.63.jpg  \n",
            "  inflating: dataset/training/cats/cat.64.jpg  \n",
            "  inflating: dataset/training/cats/cat.65.jpg  \n",
            "  inflating: dataset/training/cats/cat.66.jpg  \n",
            "  inflating: dataset/training/cats/cat.67.jpg  \n",
            "  inflating: dataset/training/cats/cat.68.jpg  \n",
            "  inflating: dataset/training/cats/cat.69.jpg  \n",
            "  inflating: dataset/training/cats/cat.70.jpg  \n",
            "  inflating: dataset/training/cats/cat.71.jpg  \n",
            "  inflating: dataset/training/cats/cat.72.jpg  \n",
            "  inflating: dataset/training/cats/cat.73.jpg  \n",
            "  inflating: dataset/training/cats/cat.74.jpg  \n",
            "  inflating: dataset/training/cats/cat.75.jpg  \n",
            "  inflating: dataset/training/cats/cat.76.jpg  \n",
            "  inflating: dataset/training/cats/cat.77.jpg  \n",
            "  inflating: dataset/training/cats/cat.78.jpg  \n",
            "  inflating: dataset/training/cats/cat.79.jpg  \n",
            "  inflating: dataset/training/cats/cat.80.jpg  \n",
            "  inflating: dataset/training/cats/cat.81.jpg  \n",
            "  inflating: dataset/training/cats/cat.82.jpg  \n",
            "  inflating: dataset/training/cats/cat.83.jpg  \n",
            "  inflating: dataset/training/cats/cat.84.jpg  \n",
            "  inflating: dataset/training/cats/cat.85.jpg  \n",
            "  inflating: dataset/training/cats/cat.86.jpg  \n",
            "  inflating: dataset/training/cats/cat.87.jpg  \n",
            "  inflating: dataset/training/cats/cat.88.jpg  \n",
            "  inflating: dataset/training/cats/cat.89.jpg  \n",
            "  inflating: dataset/training/cats/cat.90.jpg  \n",
            "  inflating: dataset/training/cats/cat.91.jpg  \n",
            "  inflating: dataset/training/cats/cat.92.jpg  \n",
            "  inflating: dataset/training/cats/cat.93.jpg  \n",
            "  inflating: dataset/training/cats/cat.94.jpg  \n",
            "  inflating: dataset/training/cats/cat.95.jpg  \n",
            "  inflating: dataset/training/cats/cat.96.jpg  \n",
            "  inflating: dataset/training/cats/cat.97.jpg  \n",
            "  inflating: dataset/training/cats/cat.98.jpg  \n",
            "  inflating: dataset/training/cats/cat.99.jpg  \n",
            "   creating: dataset/training/dogs/\n",
            "  inflating: dataset/training/dogs/dog.1.jpg  \n",
            "  inflating: dataset/training/dogs/dog.100.jpg  \n",
            "  inflating: dataset/training/dogs/dog.101.jpg  \n",
            "  inflating: dataset/training/dogs/dog.102.jpg  \n",
            "  inflating: dataset/training/dogs/dog.103.jpg  \n",
            "  inflating: dataset/training/dogs/dog.104.jpg  \n",
            "  inflating: dataset/training/dogs/dog.105.jpg  \n",
            "  inflating: dataset/training/dogs/dog.106.jpg  \n",
            "  inflating: dataset/training/dogs/dog.107.jpg  \n",
            "  inflating: dataset/training/dogs/dog.108.jpg  \n",
            "  inflating: dataset/training/dogs/dog.109.jpg  \n",
            "  inflating: dataset/training/dogs/dog.110.jpg  \n",
            "  inflating: dataset/training/dogs/dog.111.jpg  \n",
            "  inflating: dataset/training/dogs/dog.112.jpg  \n",
            "  inflating: dataset/training/dogs/dog.113.jpg  \n",
            "  inflating: dataset/training/dogs/dog.114.jpg  \n",
            "  inflating: dataset/training/dogs/dog.115.jpg  \n",
            "  inflating: dataset/training/dogs/dog.116.jpg  \n",
            "  inflating: dataset/training/dogs/dog.117.jpg  \n",
            "  inflating: dataset/training/dogs/dog.118.jpg  \n",
            "  inflating: dataset/training/dogs/dog.119.jpg  \n",
            "  inflating: dataset/training/dogs/dog.120.jpg  \n",
            "  inflating: dataset/training/dogs/dog.121.jpg  \n",
            "  inflating: dataset/training/dogs/dog.122.jpg  \n",
            "  inflating: dataset/training/dogs/dog.123.jpg  \n",
            "  inflating: dataset/training/dogs/dog.124.jpg  \n",
            "  inflating: dataset/training/dogs/dog.125.jpg  \n",
            "  inflating: dataset/training/dogs/dog.126.jpg  \n",
            "  inflating: dataset/training/dogs/dog.127.jpg  \n",
            "  inflating: dataset/training/dogs/dog.128.jpg  \n",
            "  inflating: dataset/training/dogs/dog.129.jpg  \n",
            "  inflating: dataset/training/dogs/dog.130.jpg  \n",
            "  inflating: dataset/training/dogs/dog.131.jpg  \n",
            "  inflating: dataset/training/dogs/dog.132.jpg  \n",
            "  inflating: dataset/training/dogs/dog.133.jpg  \n",
            "  inflating: dataset/training/dogs/dog.134.jpg  \n",
            "  inflating: dataset/training/dogs/dog.135.jpg  \n",
            "  inflating: dataset/training/dogs/dog.136.jpg  \n",
            "  inflating: dataset/training/dogs/dog.137.jpg  \n",
            "  inflating: dataset/training/dogs/dog.138.jpg  \n",
            "  inflating: dataset/training/dogs/dog.139.jpg  \n",
            "  inflating: dataset/training/dogs/dog.140.jpg  \n",
            "  inflating: dataset/training/dogs/dog.141.jpg  \n",
            "  inflating: dataset/training/dogs/dog.142.jpg  \n",
            "  inflating: dataset/training/dogs/dog.143.jpg  \n",
            "  inflating: dataset/training/dogs/dog.144.jpg  \n",
            "  inflating: dataset/training/dogs/dog.145.jpg  \n",
            "  inflating: dataset/training/dogs/dog.146.jpg  \n",
            "  inflating: dataset/training/dogs/dog.147.jpg  \n",
            "  inflating: dataset/training/dogs/dog.148.jpg  \n",
            "  inflating: dataset/training/dogs/dog.149.jpg  \n",
            "  inflating: dataset/training/dogs/dog.150.jpg  \n",
            "  inflating: dataset/training/dogs/dog.151.jpg  \n",
            "  inflating: dataset/training/dogs/dog.152.jpg  \n",
            "  inflating: dataset/training/dogs/dog.153.jpg  \n",
            "  inflating: dataset/training/dogs/dog.154.jpg  \n",
            "  inflating: dataset/training/dogs/dog.155.jpg  \n",
            "  inflating: dataset/training/dogs/dog.156.jpg  \n",
            "  inflating: dataset/training/dogs/dog.157.jpg  \n",
            "  inflating: dataset/training/dogs/dog.158.jpg  \n",
            "  inflating: dataset/training/dogs/dog.159.jpg  \n",
            "  inflating: dataset/training/dogs/dog.160.jpg  \n",
            "  inflating: dataset/training/dogs/dog.161.jpg  \n",
            "  inflating: dataset/training/dogs/dog.162.jpg  \n",
            "  inflating: dataset/training/dogs/dog.163.jpg  \n",
            "  inflating: dataset/training/dogs/dog.164.jpg  \n",
            "  inflating: dataset/training/dogs/dog.165.jpg  \n",
            "  inflating: dataset/training/dogs/dog.166.jpg  \n",
            "  inflating: dataset/training/dogs/dog.167.jpg  \n",
            "  inflating: dataset/training/dogs/dog.168.jpg  \n",
            "  inflating: dataset/training/dogs/dog.169.jpg  \n",
            "  inflating: dataset/training/dogs/dog.170.jpg  \n",
            "  inflating: dataset/training/dogs/dog.171.jpg  \n",
            "  inflating: dataset/training/dogs/dog.172.jpg  \n",
            "  inflating: dataset/training/dogs/dog.173.jpg  \n",
            "  inflating: dataset/training/dogs/dog.174.jpg  \n",
            "  inflating: dataset/training/dogs/dog.175.jpg  \n",
            "  inflating: dataset/training/dogs/dog.176.jpg  \n",
            "  inflating: dataset/training/dogs/dog.177.jpg  \n",
            "  inflating: dataset/training/dogs/dog.178.jpg  \n",
            "  inflating: dataset/training/dogs/dog.179.jpg  \n",
            "  inflating: dataset/training/dogs/dog.180.jpg  \n",
            "  inflating: dataset/training/dogs/dog.181.jpg  \n",
            "  inflating: dataset/training/dogs/dog.182.jpg  \n",
            "  inflating: dataset/training/dogs/dog.183.jpg  \n",
            "  inflating: dataset/training/dogs/dog.184.jpg  \n",
            "  inflating: dataset/training/dogs/dog.185.jpg  \n",
            "  inflating: dataset/training/dogs/dog.186.jpg  \n",
            "  inflating: dataset/training/dogs/dog.187.jpg  \n",
            "  inflating: dataset/training/dogs/dog.188.jpg  \n",
            "  inflating: dataset/training/dogs/dog.189.jpg  \n",
            "  inflating: dataset/training/dogs/dog.190.jpg  \n",
            "  inflating: dataset/training/dogs/dog.191.jpg  \n",
            "  inflating: dataset/training/dogs/dog.192.jpg  \n",
            "  inflating: dataset/training/dogs/dog.193.jpg  \n",
            "  inflating: dataset/training/dogs/dog.194.jpg  \n",
            "  inflating: dataset/training/dogs/dog.195.jpg  \n",
            "  inflating: dataset/training/dogs/dog.196.jpg  \n",
            "  inflating: dataset/training/dogs/dog.197.jpg  \n",
            "  inflating: dataset/training/dogs/dog.198.jpg  \n",
            "  inflating: dataset/training/dogs/dog.199.jpg  \n",
            "  inflating: dataset/training/dogs/dog.2.jpg  \n",
            "  inflating: dataset/training/dogs/dog.200.jpg  \n",
            "  inflating: dataset/training/dogs/dog.201.jpg  \n",
            "  inflating: dataset/training/dogs/dog.202.jpg  \n",
            "  inflating: dataset/training/dogs/dog.29.jpg  \n",
            "  inflating: dataset/training/dogs/dog.3.jpg  \n",
            "  inflating: dataset/training/dogs/dog.30.jpg  \n",
            "  inflating: dataset/training/dogs/dog.31.jpg  \n",
            "  inflating: dataset/training/dogs/dog.32.jpg  \n",
            "  inflating: dataset/training/dogs/dog.33.jpg  \n",
            "  inflating: dataset/training/dogs/dog.34.jpg  \n",
            "  inflating: dataset/training/dogs/dog.35.jpg  \n",
            "  inflating: dataset/training/dogs/dog.36.jpg  \n",
            "  inflating: dataset/training/dogs/dog.37.jpg  \n",
            "  inflating: dataset/training/dogs/dog.38.jpg  \n",
            "  inflating: dataset/training/dogs/dog.39.jpg  \n",
            "  inflating: dataset/training/dogs/dog.4.jpg  \n",
            "  inflating: dataset/training/dogs/dog.40.jpg  \n",
            "  inflating: dataset/training/dogs/dog.41.jpg  \n",
            "  inflating: dataset/training/dogs/dog.42.jpg  \n",
            "  inflating: dataset/training/dogs/dog.43.jpg  \n",
            "  inflating: dataset/training/dogs/dog.44.jpg  \n",
            "  inflating: dataset/training/dogs/dog.45.jpg  \n",
            "  inflating: dataset/training/dogs/dog.46.jpg  \n",
            "  inflating: dataset/training/dogs/dog.47.jpg  \n",
            "  inflating: dataset/training/dogs/dog.48.jpg  \n",
            "  inflating: dataset/training/dogs/dog.49.jpg  \n",
            "  inflating: dataset/training/dogs/dog.5.jpg  \n",
            "  inflating: dataset/training/dogs/dog.50.jpg  \n",
            "  inflating: dataset/training/dogs/dog.51.jpg  \n",
            "  inflating: dataset/training/dogs/dog.52.jpg  \n",
            "  inflating: dataset/training/dogs/dog.53.jpg  \n",
            "  inflating: dataset/training/dogs/dog.54.jpg  \n",
            "  inflating: dataset/training/dogs/dog.55.jpg  \n",
            "  inflating: dataset/training/dogs/dog.56.jpg  \n",
            "  inflating: dataset/training/dogs/dog.57.jpg  \n",
            "  inflating: dataset/training/dogs/dog.58.jpg  \n",
            "  inflating: dataset/training/dogs/dog.59.jpg  \n",
            "  inflating: dataset/training/dogs/dog.6.jpg  \n",
            "  inflating: dataset/training/dogs/dog.60.jpg  \n",
            "  inflating: dataset/training/dogs/dog.61.jpg  \n",
            "  inflating: dataset/training/dogs/dog.62.jpg  \n",
            "  inflating: dataset/training/dogs/dog.63.jpg  \n",
            "  inflating: dataset/training/dogs/dog.64.jpg  \n",
            "  inflating: dataset/training/dogs/dog.65.jpg  \n",
            "  inflating: dataset/training/dogs/dog.66.jpg  \n",
            "  inflating: dataset/training/dogs/dog.67.jpg  \n",
            "  inflating: dataset/training/dogs/dog.68.jpg  \n",
            "  inflating: dataset/training/dogs/dog.69.jpg  \n",
            "  inflating: dataset/training/dogs/dog.7.jpg  \n",
            "  inflating: dataset/training/dogs/dog.70.jpg  \n",
            "  inflating: dataset/training/dogs/dog.71.jpg  \n",
            "  inflating: dataset/training/dogs/dog.72.jpg  \n",
            "  inflating: dataset/training/dogs/dog.73.jpg  \n",
            "  inflating: dataset/training/dogs/dog.74.jpg  \n",
            "  inflating: dataset/training/dogs/dog.75.jpg  \n",
            "  inflating: dataset/training/dogs/dog.76.jpg  \n",
            "  inflating: dataset/training/dogs/dog.77.jpg  \n",
            "  inflating: dataset/training/dogs/dog.78.jpg  \n",
            "  inflating: dataset/training/dogs/dog.79.jpg  \n",
            "  inflating: dataset/training/dogs/dog.80.jpg  \n",
            "  inflating: dataset/training/dogs/dog.81.jpg  \n",
            "  inflating: dataset/training/dogs/dog.82.jpg  \n",
            "  inflating: dataset/training/dogs/dog.83.jpg  \n",
            "  inflating: dataset/training/dogs/dog.84.jpg  \n",
            "  inflating: dataset/training/dogs/dog.85.jpg  \n",
            "  inflating: dataset/training/dogs/dog.86.jpg  \n",
            "  inflating: dataset/training/dogs/dog.87.jpg  \n",
            "  inflating: dataset/training/dogs/dog.88.jpg  \n",
            "  inflating: dataset/training/dogs/dog.89.jpg  \n",
            "  inflating: dataset/training/dogs/dog.90.jpg  \n",
            "  inflating: dataset/training/dogs/dog.91.jpg  \n",
            "  inflating: dataset/training/dogs/dog.92.jpg  \n",
            "  inflating: dataset/training/dogs/dog.93.jpg  \n",
            "  inflating: dataset/training/dogs/dog.94.jpg  \n",
            "  inflating: dataset/training/dogs/dog.95.jpg  \n",
            "  inflating: dataset/training/dogs/dog.96.jpg  \n",
            "  inflating: dataset/training/dogs/dog.97.jpg  \n",
            "  inflating: dataset/training/dogs/dog.98.jpg  \n",
            "  inflating: dataset/training/dogs/dog.99.jpg  \n",
            "   creating: dataset/training/horses/\n",
            "  inflating: dataset/training/horses/horse-1.jpg  \n",
            "  inflating: dataset/training/horses/horse-10.jpg  \n",
            "  inflating: dataset/training/horses/horse-100.jpg  \n",
            "  inflating: dataset/training/horses/horse-101.jpg  \n",
            "  inflating: dataset/training/horses/horse-102.jpg  \n",
            "  inflating: dataset/training/horses/horse-103.jpg  \n",
            "  inflating: dataset/training/horses/horse-104.jpg  \n",
            "  inflating: dataset/training/horses/horse-105.jpg  \n",
            "  inflating: dataset/training/horses/horse-106.jpg  \n",
            "  inflating: dataset/training/horses/horse-107.jpg  \n",
            "  inflating: dataset/training/horses/horse-108.jpg  \n",
            "  inflating: dataset/training/horses/horse-109.jpg  \n",
            "  inflating: dataset/training/horses/horse-11.jpg  \n",
            "  inflating: dataset/training/horses/horse-110.jpg  \n",
            "  inflating: dataset/training/horses/horse-111.jpg  \n",
            "  inflating: dataset/training/horses/horse-112.jpg  \n",
            "  inflating: dataset/training/horses/horse-113.jpg  \n",
            "  inflating: dataset/training/horses/horse-114.jpg  \n",
            "  inflating: dataset/training/horses/horse-115.jpg  \n",
            "  inflating: dataset/training/horses/horse-116.jpg  \n",
            "  inflating: dataset/training/horses/horse-117.jpg  \n",
            "  inflating: dataset/training/horses/horse-118.jpg  \n",
            "  inflating: dataset/training/horses/horse-119.jpg  \n",
            "  inflating: dataset/training/horses/horse-12.jpg  \n",
            "  inflating: dataset/training/horses/horse-120.jpg  \n",
            "  inflating: dataset/training/horses/horse-121.jpg  \n",
            "  inflating: dataset/training/horses/horse-122.jpg  \n",
            "  inflating: dataset/training/horses/horse-123.jpg  \n",
            "  inflating: dataset/training/horses/horse-124.jpg  \n",
            "  inflating: dataset/training/horses/horse-125.jpg  \n",
            "  inflating: dataset/training/horses/horse-126.jpg  \n",
            "  inflating: dataset/training/horses/horse-127.jpg  \n",
            "  inflating: dataset/training/horses/horse-128.jpg  \n",
            "  inflating: dataset/training/horses/horse-129.jpg  \n",
            "  inflating: dataset/training/horses/horse-13.jpg  \n",
            "  inflating: dataset/training/horses/horse-130.jpg  \n",
            "  inflating: dataset/training/horses/horse-131.jpg  \n",
            "  inflating: dataset/training/horses/horse-132.jpg  \n",
            "  inflating: dataset/training/horses/horse-133.jpg  \n",
            "  inflating: dataset/training/horses/horse-134.jpg  \n",
            "  inflating: dataset/training/horses/horse-135.jpg  \n",
            "  inflating: dataset/training/horses/horse-136.jpg  \n",
            "  inflating: dataset/training/horses/horse-137.jpg  \n",
            "  inflating: dataset/training/horses/horse-138.jpg  \n",
            "  inflating: dataset/training/horses/horse-139.jpg  \n",
            "  inflating: dataset/training/horses/horse-14.jpg  \n",
            "  inflating: dataset/training/horses/horse-140.jpg  \n",
            "  inflating: dataset/training/horses/horse-141.jpg  \n",
            "  inflating: dataset/training/horses/horse-142.jpg  \n",
            "  inflating: dataset/training/horses/horse-143.jpg  \n",
            "  inflating: dataset/training/horses/horse-144.jpg  \n",
            "  inflating: dataset/training/horses/horse-145.jpg  \n",
            "  inflating: dataset/training/horses/horse-146.jpg  \n",
            "  inflating: dataset/training/horses/horse-147.jpg  \n",
            "  inflating: dataset/training/horses/horse-148.jpg  \n",
            "  inflating: dataset/training/horses/horse-149.jpg  \n",
            "  inflating: dataset/training/horses/horse-150.jpg  \n",
            "  inflating: dataset/training/horses/horse-151.jpg  \n",
            "  inflating: dataset/training/horses/horse-152.jpg  \n",
            "  inflating: dataset/training/horses/horse-153.jpg  \n",
            "  inflating: dataset/training/horses/horse-154.jpg  \n",
            "  inflating: dataset/training/horses/horse-155.jpg  \n",
            "  inflating: dataset/training/horses/horse-156.jpg  \n",
            "  inflating: dataset/training/horses/horse-157.jpg  \n",
            "  inflating: dataset/training/horses/horse-158.jpg  \n",
            "  inflating: dataset/training/horses/horse-159.jpg  \n",
            "  inflating: dataset/training/horses/horse-160.jpg  \n",
            "  inflating: dataset/training/horses/horse-161.jpg  \n",
            "  inflating: dataset/training/horses/horse-162.jpg  \n",
            "  inflating: dataset/training/horses/horse-163.jpg  \n",
            "  inflating: dataset/training/horses/horse-164.jpg  \n",
            "  inflating: dataset/training/horses/horse-165.jpg  \n",
            "  inflating: dataset/training/horses/horse-166.jpg  \n",
            "  inflating: dataset/training/horses/horse-167.jpg  \n",
            "  inflating: dataset/training/horses/horse-168.jpg  \n",
            "  inflating: dataset/training/horses/horse-169.jpg  \n",
            "  inflating: dataset/training/horses/horse-170.jpg  \n",
            "  inflating: dataset/training/horses/horse-171.jpg  \n",
            "  inflating: dataset/training/horses/horse-172.jpg  \n",
            "  inflating: dataset/training/horses/horse-173.jpg  \n",
            "  inflating: dataset/training/horses/horse-174.jpg  \n",
            "  inflating: dataset/training/horses/horse-175.jpg  \n",
            "  inflating: dataset/training/horses/horse-176.jpg  \n",
            "  inflating: dataset/training/horses/horse-177.jpg  \n",
            "  inflating: dataset/training/horses/horse-178.jpg  \n",
            "  inflating: dataset/training/horses/horse-179.jpg  \n",
            "  inflating: dataset/training/horses/horse-180.jpg  \n",
            "  inflating: dataset/training/horses/horse-181.jpg  \n",
            "  inflating: dataset/training/horses/horse-182.jpg  \n",
            "  inflating: dataset/training/horses/horse-183.jpg  \n",
            "  inflating: dataset/training/horses/horse-184.jpg  \n",
            "  inflating: dataset/training/horses/horse-185.jpg  \n",
            "  inflating: dataset/training/horses/horse-186.jpg  \n",
            "  inflating: dataset/training/horses/horse-187.jpg  \n",
            "  inflating: dataset/training/horses/horse-188.jpg  \n",
            "  inflating: dataset/training/horses/horse-189.jpg  \n",
            "  inflating: dataset/training/horses/horse-190.jpg  \n",
            "  inflating: dataset/training/horses/horse-191.jpg  \n",
            "  inflating: dataset/training/horses/horse-192.jpg  \n",
            "  inflating: dataset/training/horses/horse-193.jpg  \n",
            "  inflating: dataset/training/horses/horse-194.jpg  \n",
            "  inflating: dataset/training/horses/horse-195.jpg  \n",
            "  inflating: dataset/training/horses/horse-196.jpg  \n",
            "  inflating: dataset/training/horses/horse-197.jpg  \n",
            "  inflating: dataset/training/horses/horse-198.jpg  \n",
            "  inflating: dataset/training/horses/horse-199.jpg  \n",
            "  inflating: dataset/training/horses/horse-2.jpg  \n",
            "  inflating: dataset/training/horses/horse-200.jpg  \n",
            "  inflating: dataset/training/horses/horse-201.jpg  \n",
            "  inflating: dataset/training/horses/horse-202.jpg  \n",
            "  inflating: dataset/training/horses/horse-3.jpg  \n",
            "  inflating: dataset/training/horses/horse-4.jpg  \n",
            "  inflating: dataset/training/horses/horse-5.jpg  \n",
            "  inflating: dataset/training/horses/horse-6.jpg  \n",
            "  inflating: dataset/training/horses/horse-64.jpg  \n",
            "  inflating: dataset/training/horses/horse-65.jpg  \n",
            "  inflating: dataset/training/horses/horse-66.jpg  \n",
            "  inflating: dataset/training/horses/horse-67.jpg  \n",
            "  inflating: dataset/training/horses/horse-68.jpg  \n",
            "  inflating: dataset/training/horses/horse-69.jpg  \n",
            "  inflating: dataset/training/horses/horse-7.jpg  \n",
            "  inflating: dataset/training/horses/horse-70.jpg  \n",
            "  inflating: dataset/training/horses/horse-71.jpg  \n",
            "  inflating: dataset/training/horses/horse-72.jpg  \n",
            "  inflating: dataset/training/horses/horse-73.jpg  \n",
            "  inflating: dataset/training/horses/horse-74.jpg  \n",
            "  inflating: dataset/training/horses/horse-75.jpg  \n",
            "  inflating: dataset/training/horses/horse-76.jpg  \n",
            "  inflating: dataset/training/horses/horse-77.jpg  \n",
            "  inflating: dataset/training/horses/horse-78.jpg  \n",
            "  inflating: dataset/training/horses/horse-79.jpg  \n",
            "  inflating: dataset/training/horses/horse-8.jpg  \n",
            "  inflating: dataset/training/horses/horse-80.jpg  \n",
            "  inflating: dataset/training/horses/horse-81.jpg  \n",
            "  inflating: dataset/training/horses/horse-82.jpg  \n",
            "  inflating: dataset/training/horses/horse-83.jpg  \n",
            "  inflating: dataset/training/horses/horse-84.jpg  \n",
            "  inflating: dataset/training/horses/horse-85.jpg  \n",
            "  inflating: dataset/training/horses/horse-86.jpg  \n",
            "  inflating: dataset/training/horses/horse-87.jpg  \n",
            "  inflating: dataset/training/horses/horse-88.jpg  \n",
            "  inflating: dataset/training/horses/horse-89.jpg  \n",
            "  inflating: dataset/training/horses/horse-9.jpg  \n",
            "  inflating: dataset/training/horses/horse-90.jpg  \n",
            "  inflating: dataset/training/horses/horse-91.jpg  \n",
            "  inflating: dataset/training/horses/horse-92.jpg  \n",
            "  inflating: dataset/training/horses/horse-93.jpg  \n",
            "  inflating: dataset/training/horses/horse-94.jpg  \n",
            "  inflating: dataset/training/horses/horse-95.jpg  \n",
            "  inflating: dataset/training/horses/horse-96.jpg  \n",
            "  inflating: dataset/training/horses/horse-97.jpg  \n",
            "  inflating: dataset/training/horses/horse-98.jpg  \n",
            "  inflating: dataset/training/horses/horse-99.jpg  \n",
            "   creating: dataset/training/humans/\n",
            "  inflating: dataset/training/humans/rider-1.jpg  \n",
            "  inflating: dataset/training/humans/rider-10.jpg  \n",
            "  inflating: dataset/training/humans/rider-11.jpg  \n",
            "  inflating: dataset/training/humans/rider-12.jpg  \n",
            "  inflating: dataset/training/humans/rider-13.jpg  \n",
            "  inflating: dataset/training/humans/rider-14.jpg  \n",
            "  inflating: dataset/training/humans/rider-148.jpg  \n",
            "  inflating: dataset/training/humans/rider-149.jpg  \n",
            "  inflating: dataset/training/humans/rider-15.jpg  \n",
            "  inflating: dataset/training/humans/rider-150.jpg  \n",
            "  inflating: dataset/training/humans/rider-151.jpg  \n",
            "  inflating: dataset/training/humans/rider-152.jpg  \n",
            "  inflating: dataset/training/humans/rider-153.jpg  \n",
            "  inflating: dataset/training/humans/rider-154.jpg  \n",
            "  inflating: dataset/training/humans/rider-155.jpg  \n",
            "  inflating: dataset/training/humans/rider-156.jpg  \n",
            "  inflating: dataset/training/humans/rider-157.jpg  \n",
            "  inflating: dataset/training/humans/rider-158.jpg  \n",
            "  inflating: dataset/training/humans/rider-159.jpg  \n",
            "  inflating: dataset/training/humans/rider-16.jpg  \n",
            "  inflating: dataset/training/humans/rider-160.jpg  \n",
            "  inflating: dataset/training/humans/rider-161.jpg  \n",
            "  inflating: dataset/training/humans/rider-162.jpg  \n",
            "  inflating: dataset/training/humans/rider-163.jpg  \n",
            "  inflating: dataset/training/humans/rider-164.jpg  \n",
            "  inflating: dataset/training/humans/rider-165.jpg  \n",
            "  inflating: dataset/training/humans/rider-166.jpg  \n",
            "  inflating: dataset/training/humans/rider-167.jpg  \n",
            "  inflating: dataset/training/humans/rider-168.jpg  \n",
            "  inflating: dataset/training/humans/rider-169.jpg  \n",
            "  inflating: dataset/training/humans/rider-17.jpg  \n",
            "  inflating: dataset/training/humans/rider-170.jpg  \n",
            "  inflating: dataset/training/humans/rider-171.jpg  \n",
            "  inflating: dataset/training/humans/rider-172.jpg  \n",
            "  inflating: dataset/training/humans/rider-173.jpg  \n",
            "  inflating: dataset/training/humans/rider-174.jpg  \n",
            "  inflating: dataset/training/humans/rider-175.jpg  \n",
            "  inflating: dataset/training/humans/rider-176.jpg  \n",
            "  inflating: dataset/training/humans/rider-177.jpg  \n",
            "  inflating: dataset/training/humans/rider-178.jpg  \n",
            "  inflating: dataset/training/humans/rider-179.jpg  \n",
            "  inflating: dataset/training/humans/rider-18.jpg  \n",
            "  inflating: dataset/training/humans/rider-180.jpg  \n",
            "  inflating: dataset/training/humans/rider-181.jpg  \n",
            "  inflating: dataset/training/humans/rider-182.jpg  \n",
            "  inflating: dataset/training/humans/rider-183.jpg  \n",
            "  inflating: dataset/training/humans/rider-184.jpg  \n",
            "  inflating: dataset/training/humans/rider-185.jpg  \n",
            "  inflating: dataset/training/humans/rider-186.jpg  \n",
            "  inflating: dataset/training/humans/rider-187.jpg  \n",
            "  inflating: dataset/training/humans/rider-188.jpg  \n",
            "  inflating: dataset/training/humans/rider-189.jpg  \n",
            "  inflating: dataset/training/humans/rider-19.jpg  \n",
            "  inflating: dataset/training/humans/rider-190.jpg  \n",
            "  inflating: dataset/training/humans/rider-191.jpg  \n",
            "  inflating: dataset/training/humans/rider-192.jpg  \n",
            "  inflating: dataset/training/humans/rider-193.jpg  \n",
            "  inflating: dataset/training/humans/rider-194.jpg  \n",
            "  inflating: dataset/training/humans/rider-195.jpg  \n",
            "  inflating: dataset/training/humans/rider-196.jpg  \n",
            "  inflating: dataset/training/humans/rider-197.jpg  \n",
            "  inflating: dataset/training/humans/rider-198.jpg  \n",
            "  inflating: dataset/training/humans/rider-199.jpg  \n",
            "  inflating: dataset/training/humans/rider-2.jpg  \n",
            "  inflating: dataset/training/humans/rider-20.jpg  \n",
            "  inflating: dataset/training/humans/rider-200.jpg  \n",
            "  inflating: dataset/training/humans/rider-201.jpg  \n",
            "  inflating: dataset/training/humans/rider-202.jpg  \n",
            "  inflating: dataset/training/humans/rider-21.jpg  \n",
            "  inflating: dataset/training/humans/rider-22.jpg  \n",
            "  inflating: dataset/training/humans/rider-23.jpg  \n",
            "  inflating: dataset/training/humans/rider-24.jpg  \n",
            "  inflating: dataset/training/humans/rider-25.jpg  \n",
            "  inflating: dataset/training/humans/rider-26.jpg  \n",
            "  inflating: dataset/training/humans/rider-27.jpg  \n",
            "  inflating: dataset/training/humans/rider-28.jpg  \n",
            "  inflating: dataset/training/humans/rider-29.jpg  \n",
            "  inflating: dataset/training/humans/rider-3.jpg  \n",
            "  inflating: dataset/training/humans/rider-30.jpg  \n",
            "  inflating: dataset/training/humans/rider-31.jpg  \n",
            "  inflating: dataset/training/humans/rider-32.jpg  \n",
            "  inflating: dataset/training/humans/rider-33.jpg  \n",
            "  inflating: dataset/training/humans/rider-34.jpg  \n",
            "  inflating: dataset/training/humans/rider-35.jpg  \n",
            "  inflating: dataset/training/humans/rider-36.jpg  \n",
            "  inflating: dataset/training/humans/rider-37.jpg  \n",
            "  inflating: dataset/training/humans/rider-38.jpg  \n",
            "  inflating: dataset/training/humans/rider-39.jpg  \n",
            "  inflating: dataset/training/humans/rider-4.jpg  \n",
            "  inflating: dataset/training/humans/rider-40.jpg  \n",
            "  inflating: dataset/training/humans/rider-41.jpg  \n",
            "  inflating: dataset/training/humans/rider-42.jpg  \n",
            "  inflating: dataset/training/humans/rider-43.jpg  \n",
            "  inflating: dataset/training/humans/rider-44.jpg  \n",
            "  inflating: dataset/training/humans/rider-45.jpg  \n",
            "  inflating: dataset/training/humans/rider-46.jpg  \n",
            "  inflating: dataset/training/humans/rider-47.jpg  \n",
            "  inflating: dataset/training/humans/rider-48.jpg  \n",
            "  inflating: dataset/training/humans/rider-49.jpg  \n",
            "  inflating: dataset/training/humans/rider-5.jpg  \n",
            "  inflating: dataset/training/humans/rider-50.jpg  \n",
            "  inflating: dataset/training/humans/rider-51.jpg  \n",
            "  inflating: dataset/training/humans/rider-52.jpg  \n",
            "  inflating: dataset/training/humans/rider-53.jpg  \n",
            "  inflating: dataset/training/humans/rider-54.jpg  \n",
            "  inflating: dataset/training/humans/rider-55.jpg  \n",
            "  inflating: dataset/training/humans/rider-56.jpg  \n",
            "  inflating: dataset/training/humans/rider-57.jpg  \n",
            "  inflating: dataset/training/humans/rider-58.jpg  \n",
            "  inflating: dataset/training/humans/rider-59.jpg  \n",
            "  inflating: dataset/training/humans/rider-6.jpg  \n",
            "  inflating: dataset/training/humans/rider-60.jpg  \n",
            "  inflating: dataset/training/humans/rider-61.jpg  \n",
            "  inflating: dataset/training/humans/rider-62.jpg  \n",
            "  inflating: dataset/training/humans/rider-63.jpg  \n",
            "  inflating: dataset/training/humans/rider-64.jpg  \n",
            "  inflating: dataset/training/humans/rider-65.jpg  \n",
            "  inflating: dataset/training/humans/rider-66.jpg  \n",
            "  inflating: dataset/training/humans/rider-67.jpg  \n",
            "  inflating: dataset/training/humans/rider-68.jpg  \n",
            "  inflating: dataset/training/humans/rider-69.jpg  \n",
            "  inflating: dataset/training/humans/rider-7.jpg  \n",
            "  inflating: dataset/training/humans/rider-70.jpg  \n",
            "  inflating: dataset/training/humans/rider-8.jpg  \n",
            "  inflating: dataset/training/humans/rider-9.jpg  \n",
            "   creating: dataset/validation/\n",
            "   creating: dataset/validation/cats/\n",
            "  inflating: dataset/validation/cats/cat.1.jpg  \n",
            "  inflating: dataset/validation/cats/cat.10.jpg  \n",
            "  inflating: dataset/validation/cats/cat.11.jpg  \n",
            "  inflating: dataset/validation/cats/cat.12.jpg  \n",
            "  inflating: dataset/validation/cats/cat.13.jpg  \n",
            "  inflating: dataset/validation/cats/cat.14.jpg  \n",
            "  inflating: dataset/validation/cats/cat.15.jpg  \n",
            "  inflating: dataset/validation/cats/cat.16.jpg  \n",
            "  inflating: dataset/validation/cats/cat.17.jpg  \n",
            "  inflating: dataset/validation/cats/cat.18.jpg  \n",
            "  inflating: dataset/validation/cats/cat.19.jpg  \n",
            "  inflating: dataset/validation/cats/cat.2.jpg  \n",
            "  inflating: dataset/validation/cats/cat.20.jpg  \n",
            "  inflating: dataset/validation/cats/cat.21.jpg  \n",
            "  inflating: dataset/validation/cats/cat.22.jpg  \n",
            "  inflating: dataset/validation/cats/cat.23.jpg  \n",
            "  inflating: dataset/validation/cats/cat.24.jpg  \n",
            "  inflating: dataset/validation/cats/cat.25.jpg  \n",
            "  inflating: dataset/validation/cats/cat.26.jpg  \n",
            "  inflating: dataset/validation/cats/cat.27.jpg  \n",
            "  inflating: dataset/validation/cats/cat.28.jpg  \n",
            "  inflating: dataset/validation/cats/cat.29.jpg  \n",
            "  inflating: dataset/validation/cats/cat.3.jpg  \n",
            "  inflating: dataset/validation/cats/cat.30.jpg  \n",
            "  inflating: dataset/validation/cats/cat.31.jpg  \n",
            "  inflating: dataset/validation/cats/cat.32.jpg  \n",
            "  inflating: dataset/validation/cats/cat.33.jpg  \n",
            "  inflating: dataset/validation/cats/cat.34.jpg  \n",
            "  inflating: dataset/validation/cats/cat.35.jpg  \n",
            "  inflating: dataset/validation/cats/cat.36.jpg  \n",
            "  inflating: dataset/validation/cats/cat.37.jpg  \n",
            "  inflating: dataset/validation/cats/cat.38.jpg  \n",
            "  inflating: dataset/validation/cats/cat.39.jpg  \n",
            "  inflating: dataset/validation/cats/cat.4.jpg  \n",
            "  inflating: dataset/validation/cats/cat.40.jpg  \n",
            "  inflating: dataset/validation/cats/cat.41.jpg  \n",
            "  inflating: dataset/validation/cats/cat.42.jpg  \n",
            "  inflating: dataset/validation/cats/cat.43.jpg  \n",
            "  inflating: dataset/validation/cats/cat.44.jpg  \n",
            "  inflating: dataset/validation/cats/cat.45.jpg  \n",
            "  inflating: dataset/validation/cats/cat.46.jpg  \n",
            "  inflating: dataset/validation/cats/cat.47.jpg  \n",
            "  inflating: dataset/validation/cats/cat.48.jpg  \n",
            "  inflating: dataset/validation/cats/cat.49.jpg  \n",
            "  inflating: dataset/validation/cats/cat.5.jpg  \n",
            "  inflating: dataset/validation/cats/cat.6.jpg  \n",
            "  inflating: dataset/validation/cats/cat.7.jpg  \n",
            "  inflating: dataset/validation/cats/cat.8.jpg  \n",
            "  inflating: dataset/validation/cats/cat.9.jpg  \n",
            "   creating: dataset/validation/dogs/\n",
            "  inflating: dataset/validation/dogs/dog.10.jpg  \n",
            "  inflating: dataset/validation/dogs/dog.11.jpg  \n",
            "  inflating: dataset/validation/dogs/dog.12.jpg  \n",
            "  inflating: dataset/validation/dogs/dog.13.jpg  \n",
            "  inflating: dataset/validation/dogs/dog.14.jpg  \n",
            "  inflating: dataset/validation/dogs/dog.15.jpg  \n",
            "  inflating: dataset/validation/dogs/dog.16.jpg  \n",
            "  inflating: dataset/validation/dogs/dog.17.jpg  \n",
            "  inflating: dataset/validation/dogs/dog.18.jpg  \n",
            "  inflating: dataset/validation/dogs/dog.19.jpg  \n",
            "  inflating: dataset/validation/dogs/dog.20.jpg  \n",
            "  inflating: dataset/validation/dogs/dog.21.jpg  \n",
            "  inflating: dataset/validation/dogs/dog.22.jpg  \n",
            "  inflating: dataset/validation/dogs/dog.23.jpg  \n",
            "  inflating: dataset/validation/dogs/dog.24.jpg  \n",
            "  inflating: dataset/validation/dogs/dog.25.jpg  \n",
            "  inflating: dataset/validation/dogs/dog.26.jpg  \n",
            "  inflating: dataset/validation/dogs/dog.27.jpg  \n",
            "  inflating: dataset/validation/dogs/dog.28.jpg  \n",
            "  inflating: dataset/validation/dogs/dog.8.jpg  \n",
            "  inflating: dataset/validation/dogs/dog.9.jpg  \n",
            "   creating: dataset/validation/horses/\n",
            "  inflating: dataset/validation/horses/horse-15.jpg  \n",
            "  inflating: dataset/validation/horses/horse-16.jpg  \n",
            "  inflating: dataset/validation/horses/horse-17.jpg  \n",
            "  inflating: dataset/validation/horses/horse-18.jpg  \n",
            "  inflating: dataset/validation/horses/horse-19.jpg  \n",
            "  inflating: dataset/validation/horses/horse-20.jpg  \n",
            "  inflating: dataset/validation/horses/horse-21.jpg  \n",
            "  inflating: dataset/validation/horses/horse-22.jpg  \n",
            "  inflating: dataset/validation/horses/horse-23.jpg  \n",
            "  inflating: dataset/validation/horses/horse-24.jpg  \n",
            "  inflating: dataset/validation/horses/horse-25.jpg  \n",
            "  inflating: dataset/validation/horses/horse-26.jpg  \n",
            "  inflating: dataset/validation/horses/horse-27.jpg  \n",
            "  inflating: dataset/validation/horses/horse-28.jpg  \n",
            "  inflating: dataset/validation/horses/horse-29.jpg  \n",
            "  inflating: dataset/validation/horses/horse-30.jpg  \n",
            "  inflating: dataset/validation/horses/horse-31.jpg  \n",
            "  inflating: dataset/validation/horses/horse-32.jpg  \n",
            "  inflating: dataset/validation/horses/horse-33.jpg  \n",
            "  inflating: dataset/validation/horses/horse-34.jpg  \n",
            "  inflating: dataset/validation/horses/horse-35.jpg  \n",
            "  inflating: dataset/validation/horses/horse-36.jpg  \n",
            "  inflating: dataset/validation/horses/horse-37.jpg  \n",
            "  inflating: dataset/validation/horses/horse-38.jpg  \n",
            "  inflating: dataset/validation/horses/horse-39.jpg  \n",
            "  inflating: dataset/validation/horses/horse-40.jpg  \n",
            "  inflating: dataset/validation/horses/horse-41.jpg  \n",
            "  inflating: dataset/validation/horses/horse-42.jpg  \n",
            "  inflating: dataset/validation/horses/horse-43.jpg  \n",
            "  inflating: dataset/validation/horses/horse-44.jpg  \n",
            "  inflating: dataset/validation/horses/horse-45.jpg  \n",
            "  inflating: dataset/validation/horses/horse-46.jpg  \n",
            "  inflating: dataset/validation/horses/horse-47.jpg  \n",
            "  inflating: dataset/validation/horses/horse-48.jpg  \n",
            "  inflating: dataset/validation/horses/horse-49.jpg  \n",
            "  inflating: dataset/validation/horses/horse-50.jpg  \n",
            "  inflating: dataset/validation/horses/horse-51.jpg  \n",
            "  inflating: dataset/validation/horses/horse-52.jpg  \n",
            "  inflating: dataset/validation/horses/horse-53.jpg  \n",
            "  inflating: dataset/validation/horses/horse-54.jpg  \n",
            "  inflating: dataset/validation/horses/horse-55.jpg  \n",
            "  inflating: dataset/validation/horses/horse-56.jpg  \n",
            "  inflating: dataset/validation/horses/horse-57.jpg  \n",
            "  inflating: dataset/validation/horses/horse-58.jpg  \n",
            "  inflating: dataset/validation/horses/horse-59.jpg  \n",
            "  inflating: dataset/validation/horses/horse-60.jpg  \n",
            "  inflating: dataset/validation/horses/horse-61.jpg  \n",
            "  inflating: dataset/validation/horses/horse-62.jpg  \n",
            "  inflating: dataset/validation/horses/horse-63.jpg  \n",
            "   creating: dataset/validation/humans/\n",
            "  inflating: dataset/validation/humans/rider-100.jpg  \n",
            "  inflating: dataset/validation/humans/rider-101.jpg  \n",
            "  inflating: dataset/validation/humans/rider-102.jpg  \n",
            "  inflating: dataset/validation/humans/rider-103.jpg  \n",
            "  inflating: dataset/validation/humans/rider-104.jpg  \n",
            "  inflating: dataset/validation/humans/rider-105.jpg  \n",
            "  inflating: dataset/validation/humans/rider-106.jpg  \n",
            "  inflating: dataset/validation/humans/rider-107.jpg  \n",
            "  inflating: dataset/validation/humans/rider-108.jpg  \n",
            "  inflating: dataset/validation/humans/rider-109.jpg  \n",
            "  inflating: dataset/validation/humans/rider-110.jpg  \n",
            "  inflating: dataset/validation/humans/rider-111.jpg  \n",
            "  inflating: dataset/validation/humans/rider-112.jpg  \n",
            "  inflating: dataset/validation/humans/rider-113.jpg  \n",
            "  inflating: dataset/validation/humans/rider-114.jpg  \n",
            "  inflating: dataset/validation/humans/rider-115.jpg  \n",
            "  inflating: dataset/validation/humans/rider-116.jpg  \n",
            "  inflating: dataset/validation/humans/rider-117.jpg  \n",
            "  inflating: dataset/validation/humans/rider-118.jpg  \n",
            "  inflating: dataset/validation/humans/rider-119.jpg  \n",
            "  inflating: dataset/validation/humans/rider-120.jpg  \n",
            "  inflating: dataset/validation/humans/rider-121.jpg  \n",
            "  inflating: dataset/validation/humans/rider-122.jpg  \n",
            "  inflating: dataset/validation/humans/rider-123.jpg  \n",
            "  inflating: dataset/validation/humans/rider-124.jpg  \n",
            "  inflating: dataset/validation/humans/rider-125.jpg  \n",
            "  inflating: dataset/validation/humans/rider-126.jpg  \n",
            "  inflating: dataset/validation/humans/rider-127.jpg  \n",
            "  inflating: dataset/validation/humans/rider-128.jpg  \n",
            "  inflating: dataset/validation/humans/rider-129.jpg  \n",
            "  inflating: dataset/validation/humans/rider-130.jpg  \n",
            "  inflating: dataset/validation/humans/rider-131.jpg  \n",
            "  inflating: dataset/validation/humans/rider-132.jpg  \n",
            "  inflating: dataset/validation/humans/rider-133.jpg  \n",
            "  inflating: dataset/validation/humans/rider-134.jpg  \n",
            "  inflating: dataset/validation/humans/rider-135.jpg  \n",
            "  inflating: dataset/validation/humans/rider-136.jpg  \n",
            "  inflating: dataset/validation/humans/rider-137.jpg  \n",
            "  inflating: dataset/validation/humans/rider-138.jpg  \n",
            "  inflating: dataset/validation/humans/rider-139.jpg  \n",
            "  inflating: dataset/validation/humans/rider-140.jpg  \n",
            "  inflating: dataset/validation/humans/rider-141.jpg  \n",
            "  inflating: dataset/validation/humans/rider-142.jpg  \n",
            "  inflating: dataset/validation/humans/rider-143.jpg  \n",
            "  inflating: dataset/validation/humans/rider-144.jpg  \n",
            "  inflating: dataset/validation/humans/rider-145.jpg  \n",
            "  inflating: dataset/validation/humans/rider-146.jpg  \n",
            "  inflating: dataset/validation/humans/rider-147.jpg  \n",
            "  inflating: dataset/validation/humans/rider-71.jpg  \n",
            "  inflating: dataset/validation/humans/rider-72.jpg  \n",
            "  inflating: dataset/validation/humans/rider-73.jpg  \n",
            "  inflating: dataset/validation/humans/rider-74.jpg  \n",
            "  inflating: dataset/validation/humans/rider-75.jpg  \n",
            "  inflating: dataset/validation/humans/rider-76.jpg  \n",
            "  inflating: dataset/validation/humans/rider-77.jpg  \n",
            "  inflating: dataset/validation/humans/rider-78.jpg  \n",
            "  inflating: dataset/validation/humans/rider-79.jpg  \n",
            "  inflating: dataset/validation/humans/rider-80.jpg  \n",
            "  inflating: dataset/validation/humans/rider-81.jpg  \n",
            "  inflating: dataset/validation/humans/rider-82.jpg  \n",
            "  inflating: dataset/validation/humans/rider-83.jpg  \n",
            "  inflating: dataset/validation/humans/rider-84.jpg  \n",
            "  inflating: dataset/validation/humans/rider-85.jpg  \n",
            "  inflating: dataset/validation/humans/rider-86.jpg  \n",
            "  inflating: dataset/validation/humans/rider-87.jpg  \n",
            "  inflating: dataset/validation/humans/rider-88.jpg  \n",
            "  inflating: dataset/validation/humans/rider-89.jpg  \n",
            "  inflating: dataset/validation/humans/rider-90.jpg  \n",
            "  inflating: dataset/validation/humans/rider-91.jpg  \n",
            "  inflating: dataset/validation/humans/rider-92.jpg  \n",
            "  inflating: dataset/validation/humans/rider-93.jpg  \n",
            "  inflating: dataset/validation/humans/rider-94.jpg  \n",
            "  inflating: dataset/validation/humans/rider-95.jpg  \n",
            "  inflating: dataset/validation/humans/rider-96.jpg  \n",
            "  inflating: dataset/validation/humans/rider-97.jpg  \n",
            "  inflating: dataset/validation/humans/rider-98.jpg  \n",
            "  inflating: dataset/validation/humans/rider-99.jpg  \n"
          ]
        }
      ]
    },
    {
      "cell_type": "code",
      "source": [
        "train_path = 'dataset/training'\n",
        "valid_path = 'dataset/validation'\n",
        "\n",
        "# useful for getting number of files\n",
        "image_files = glob(train_path + '/*/*.jp*g')\n",
        "valid_image_files = glob(valid_path + '/*/*.jp*g')\n"
      ],
      "metadata": {
        "id": "SF-qdd57nChh"
      },
      "execution_count": 10,
      "outputs": []
    },
    {
      "cell_type": "code",
      "source": [
        "folders = glob(train_path + '/*')\n"
      ],
      "metadata": {
        "id": "z5QJF_BdnXtA"
      },
      "execution_count": 11,
      "outputs": []
    },
    {
      "cell_type": "code",
      "source": [
        "plt.imshow(image.img_to_array(image.load_img(np.random.choice(image_files))).astype('uint8'))\n",
        "plt.show()"
      ],
      "metadata": {
        "colab": {
          "base_uri": "https://localhost:8080/",
          "height": 269
        },
        "id": "DwXqZ1xZna5o",
        "outputId": "bcdc8d34-1fef-4ff3-90e2-10ca752cc2d9"
      },
      "execution_count": 13,
      "outputs": [
        {
          "output_type": "display_data",
          "data": {
            "text/plain": [
              "<Figure size 432x288 with 1 Axes>"
            ],
            "image/png": "[encoded data removed]"
          },
          "metadata": {
            "needs_background": "light"
          }
        }
      ]
    },
    {
      "cell_type": "code",
      "source": [
        "vgg = VGG16(input_shape=IMAGE_SIZE + [3], weights='imagenet', include_top=False)\n",
        "for layer in vgg.layers:\n",
        "  layer.trainable = False\n"
      ],
      "metadata": {
        "colab": {
          "base_uri": "https://localhost:8080/"
        },
        "id": "hzwP7gRRnc8I",
        "outputId": "c9d3d9ea-17c3-4b83-97ec-9979d697547e"
      },
      "execution_count": 14,
      "outputs": [
        {
          "output_type": "stream",
          "name": "stdout",
          "text": [
            "Downloading data from https://storage.googleapis.com/tensorflow/keras-applications/vgg16/vgg16_weights_tf_dim_ordering_tf_kernels_notop.h5\n",
            "58889256/58889256 [==============================] - 1s 0us/step\n"
          ]
        }
      ]
    },
    {
      "cell_type": "code",
      "source": [
        "x = Flatten()(vgg.output)\n",
        "x = Dense(1000, activation='relu')(x)\n",
        "prediction = Dense(len(folders), activation='softmax')(x)"
      ],
      "metadata": {
        "id": "nwfgnafDnwTY"
      },
      "execution_count": 15,
      "outputs": []
    },
    {
      "cell_type": "code",
      "source": [
        "model=Model(inputs=vgg.input, outputs=prediction)"
      ],
      "metadata": {
        "id": "ngzFGuBXn3Gg"
      },
      "execution_count": 18,
      "outputs": []
    },
    {
      "cell_type": "code",
      "source": [
        "model.summary()"
      ],
      "metadata": {
        "colab": {
          "base_uri": "https://localhost:8080/"
        },
        "id": "VawF8BdvoD14",
        "outputId": "c707ce99-aabc-4812-f2c3-033c2b399e55"
      },
      "execution_count": 19,
      "outputs": [
        {
          "output_type": "stream",
          "name": "stdout",
          "text": [
            "Model: \"model\"\n",
            "_________________________________________________________________\n",
            " Layer (type)                Output Shape              Param #   \n",
            "=================================================================\n",
            " input_1 (InputLayer)        [(None, 100, 100, 3)]     0         \n",
            "                                                                 \n",
            " block1_conv1 (Conv2D)       (None, 100, 100, 64)      1792      \n",
            "                                                                 \n",
            " block1_conv2 (Conv2D)       (None, 100, 100, 64)      36928     \n",
            "                                                                 \n",
            " block1_pool (MaxPooling2D)  (None, 50, 50, 64)        0         \n",
            "                                                                 \n",
            " block2_conv1 (Conv2D)       (None, 50, 50, 128)       73856     \n",
            "                                                                 \n",
            " block2_conv2 (Conv2D)       (None, 50, 50, 128)       147584    \n",
            "                                                                 \n",
            " block2_pool (MaxPooling2D)  (None, 25, 25, 128)       0         \n",
            "                                                                 \n",
            " block3_conv1 (Conv2D)       (None, 25, 25, 256)       295168    \n",
            "                                                                 \n",
            " block3_conv2 (Conv2D)       (None, 25, 25, 256)       590080    \n",
            "                                                                 \n",
            " block3_conv3 (Conv2D)       (None, 25, 25, 256)       590080    \n",
            "                                                                 \n",
            " block3_pool (MaxPooling2D)  (None, 12, 12, 256)       0         \n",
            "                                                                 \n",
            " block4_conv1 (Conv2D)       (None, 12, 12, 512)       1180160   \n",
            "                                                                 \n",
            " block4_conv2 (Conv2D)       (None, 12, 12, 512)       2359808   \n",
            "                                                                 \n",
            " block4_conv3 (Conv2D)       (None, 12, 12, 512)       2359808   \n",
            "                                                                 \n",
            " block4_pool (MaxPooling2D)  (None, 6, 6, 512)         0         \n",
            "                                                                 \n",
            " block5_conv1 (Conv2D)       (None, 6, 6, 512)         2359808   \n",
            "                                                                 \n",
            " block5_conv2 (Conv2D)       (None, 6, 6, 512)         2359808   \n",
            "                                                                 \n",
            " block5_conv3 (Conv2D)       (None, 6, 6, 512)         2359808   \n",
            "                                                                 \n",
            " block5_pool (MaxPooling2D)  (None, 3, 3, 512)         0         \n",
            "                                                                 \n",
            " flatten (Flatten)           (None, 4608)              0         \n",
            "                                                                 \n",
            " dense (Dense)               (None, 1000)              4609000   \n",
            "                                                                 \n",
            " dense_1 (Dense)             (None, 4)                 4004      \n",
            "                                                                 \n",
            "=================================================================\n",
            "Total params: 19,327,692\n",
            "Trainable params: 4,613,004\n",
            "Non-trainable params: 14,714,688\n",
            "_________________________________________________________________\n"
          ]
        }
      ]
    },
    {
      "cell_type": "code",
      "source": [
        "model.compile(\n",
        "  loss='categorical_crossentropy',\n",
        "  optimizer='rmsprop',\n",
        "  metrics=['accuracy']\n",
        ")\n"
      ],
      "metadata": {
        "id": "S03r42k_oPog"
      },
      "execution_count": 20,
      "outputs": []
    },
    {
      "cell_type": "code",
      "source": [
        "gen = ImageDataGenerator(\n",
        "  rotation_range=20,\n",
        "  width_shift_range=0.1,\n",
        "  height_shift_range=0.1,\n",
        "  shear_range=0.1,\n",
        "  zoom_range=0.2,\n",
        "  horizontal_flip=True,\n",
        "  vertical_flip=True,\n",
        "  preprocessing_function=preprocess_input\n",
        ")"
      ],
      "metadata": {
        "id": "xRzsemwKoSRZ"
      },
      "execution_count": 23,
      "outputs": []
    },
    {
      "cell_type": "code",
      "source": [
        "test_gen = gen.flow_from_directory(valid_path, target_size=IMAGE_SIZE)\n",
        "print(test_gen.class_indices)\n",
        "\n"
      ],
      "metadata": {
        "colab": {
          "base_uri": "https://localhost:8080/"
        },
        "id": "CMf5_FWuqqOE",
        "outputId": "350a5579-6a27-4927-9bdf-6bd56cab20a3"
      },
      "execution_count": 24,
      "outputs": [
        {
          "output_type": "stream",
          "name": "stdout",
          "text": [
            "Found 196 images belonging to 4 classes.\n",
            "{'cats': 0, 'dogs': 1, 'horses': 2, 'humans': 3}\n"
          ]
        }
      ]
    },
    {
      "cell_type": "code",
      "source": [
        "labels = [None] * len(test_gen.class_indices)\n"
      ],
      "metadata": {
        "id": "-hCfd-lNssux"
      },
      "execution_count": 25,
      "outputs": []
    },
    {
      "cell_type": "code",
      "source": [
        "labels"
      ],
      "metadata": {
        "colab": {
          "base_uri": "https://localhost:8080/"
        },
        "id": "VPfbuCfstEvX",
        "outputId": "2fea8c1d-9968-47e2-9e88-08103b681a2a"
      },
      "execution_count": 26,
      "outputs": [
        {
          "output_type": "execute_result",
          "data": {
            "text/plain": [
              "[None, None, None, None]"
            ]
          },
          "metadata": {},
          "execution_count": 26
        }
      ]
    },
    {
      "cell_type": "code",
      "source": [
        "for k, v in test_gen.class_indices.items():\n",
        "  labels[v] = k"
      ],
      "metadata": {
        "id": "gnXQE7aztFre"
      },
      "execution_count": 27,
      "outputs": []
    },
    {
      "cell_type": "code",
      "source": [
        "labels"
      ],
      "metadata": {
        "colab": {
          "base_uri": "https://localhost:8080/"
        },
        "id": "QoImA9THtQln",
        "outputId": "11d31ff9-c31c-4d60-bc9d-a45a6f965e64"
      },
      "execution_count": 28,
      "outputs": [
        {
          "output_type": "execute_result",
          "data": {
            "text/plain": [
              "['cats', 'dogs', 'horses', 'humans']"
            ]
          },
          "metadata": {},
          "execution_count": 28
        }
      ]
    },
    {
      "cell_type": "code",
      "source": [
        "for x, y in test_gen:\n",
        "  print(\"min:\", x[0].min(), \"max:\", x[0].max())\n",
        "  print(y[0])\n",
        "  plt.title(labels[np.argmax(y[0])])\n",
        "  plt.imshow(x[0])\n",
        "  plt.show()\n",
        "  break"
      ],
      "metadata": {
        "colab": {
          "base_uri": "https://localhost:8080/",
          "height": 333
        },
        "id": "-vDoukgHtRtv",
        "outputId": "58494a42-fa24-4926-d30e-ad24dff3bb6b"
      },
      "execution_count": 31,
      "outputs": [
        {
          "output_type": "stream",
          "name": "stderr",
          "text": [
            "WARNING:matplotlib.image:Clipping input data to the valid range for imshow with RGB data ([0..1] for floats or [0..255] for integers).\n"
          ]
        },
        {
          "output_type": "stream",
          "name": "stdout",
          "text": [
            "min: -123.56997 max: 149.87411\n",
            "[0. 0. 0. 1.]\n"
          ]
        },
        {
          "output_type": "display_data",
          "data": {
            "text/plain": [
              "<Figure size 432x288 with 1 Axes>"
            ],
            "image/png": "[encoded data removed]"
          },
          "metadata": {
            "needs_background": "light"
          }
        }
      ]
    },
    {
      "cell_type": "code",
      "source": [
        "train_generator = gen.flow_from_directory(\n",
        "  train_path,\n",
        "  target_size=IMAGE_SIZE,\n",
        "  shuffle=True,\n",
        "  batch_size=batch_size,\n",
        ")"
      ],
      "metadata": {
        "colab": {
          "base_uri": "https://localhost:8080/"
        },
        "id": "xN1tLblbtXmP",
        "outputId": "d90fb25a-7acf-4019-9df7-46ea0af2eee0"
      },
      "execution_count": 32,
      "outputs": [
        {
          "output_type": "stream",
          "name": "stdout",
          "text": [
            "Found 612 images belonging to 4 classes.\n"
          ]
        }
      ]
    },
    {
      "cell_type": "code",
      "source": [
        "valid_generator = gen.flow_from_directory(\n",
        "  valid_path,\n",
        "  target_size=IMAGE_SIZE,\n",
        "  shuffle=True,\n",
        "  batch_size=batch_size,\n",
        ")"
      ],
      "metadata": {
        "colab": {
          "base_uri": "https://localhost:8080/"
        },
        "id": "GvghjmnWuLOu",
        "outputId": "1d60ee0e-0b7f-4e97-8c13-4dd93151ef79"
      },
      "execution_count": 33,
      "outputs": [
        {
          "output_type": "stream",
          "name": "stdout",
          "text": [
            "Found 196 images belonging to 4 classes.\n"
          ]
        }
      ]
    },
    {
      "cell_type": "code",
      "source": [
        "r = model.fit(\n",
        "  train_generator,\n",
        "  validation_data=valid_generator,\n",
        "  epochs=epochs,\n",
        "  steps_per_epoch=len(image_files) // batch_size,\n",
        "  validation_steps=len(valid_image_files) // batch_size,\n",
        ")"
      ],
      "metadata": {
        "colab": {
          "base_uri": "https://localhost:8080/"
        },
        "id": "wUwrdG5euOTe",
        "outputId": "c5bbbb0c-9b5f-4620-c2e7-02c500ae4518"
      },
      "execution_count": 34,
      "outputs": [
        {
          "output_type": "stream",
          "name": "stdout",
          "text": [
            "Epoch 1/5\n",
            "19/19 [==============================] - 85s 4s/step - loss: 29.7455 - accuracy: 0.6362 - val_loss: 5.8770 - val_accuracy: 0.7708\n",
            "Epoch 2/5\n",
            "19/19 [==============================] - 82s 4s/step - loss: 3.8196 - accuracy: 0.8224 - val_loss: 2.2632 - val_accuracy: 0.8542\n",
            "Epoch 3/5\n",
            "19/19 [==============================] - 81s 4s/step - loss: 1.9020 - accuracy: 0.8603 - val_loss: 1.2341 - val_accuracy: 0.9010\n",
            "Epoch 4/5\n",
            "19/19 [==============================] - 81s 4s/step - loss: 1.6904 - accuracy: 0.8793 - val_loss: 5.4427 - val_accuracy: 0.7396\n",
            "Epoch 5/5\n",
            "19/19 [==============================] - 82s 4s/step - loss: 1.6680 - accuracy: 0.8759 - val_loss: 1.5327 - val_accuracy: 0.8854\n"
          ]
        }
      ]
    },
    {
      "cell_type": "code",
      "source": [
        "def get_confusion_matrix(data_path, N):\n",
        "  print(\"Generating confusion matrix\", N)\n",
        "  predictions = []\n",
        "  targets = []\n",
        "  i = 0\n",
        "  for x, y in gen.flow_from_directory(data_path, target_size=IMAGE_SIZE, shuffle=False, batch_size=batch_size * 2):\n",
        "    i += 1\n",
        "    if i % 50 == 0:\n",
        "      print(i)\n",
        "    p = model.predict(x)\n",
        "    p = np.argmax(p, axis=1)\n",
        "    y = np.argmax(y, axis=1)\n",
        "    predictions = np.concatenate((predictions, p))\n",
        "    targets = np.concatenate((targets, y))\n",
        "    if len(targets) >= N:\n",
        "      break\n",
        "\n",
        "  cm = confusion_matrix(targets, predictions)\n",
        "  return cm"
      ],
      "metadata": {
        "id": "lpARQJEZvES1"
      },
      "execution_count": 35,
      "outputs": []
    },
    {
      "cell_type": "code",
      "source": [
        "cm = get_confusion_matrix(train_path, len(image_files))\n",
        "print(cm)\n",
        "valid_cm = get_confusion_matrix(valid_path, len(valid_image_files))\n",
        "print(valid_cm)"
      ],
      "metadata": {
        "colab": {
          "base_uri": "https://localhost:8080/"
        },
        "id": "amFD-8gT9NR7",
        "outputId": "c9d23284-2848-41eb-b0ae-a98224099369"
      },
      "execution_count": 36,
      "outputs": [
        {
          "output_type": "stream",
          "name": "stdout",
          "text": [
            "Generating confusion matrix 612\n",
            "Found 612 images belonging to 4 classes.\n",
            "2/2 [==============================] - 7s 3s/step\n",
            "2/2 [==============================] - 8s 3s/step\n",
            "2/2 [==============================] - 7s 3s/step\n",
            "2/2 [==============================] - 6s 3s/step\n",
            "2/2 [==============================] - 6s 3s/step\n",
            "2/2 [==============================] - 6s 3s/step\n",
            "2/2 [==============================] - 6s 3s/step\n",
            "2/2 [==============================] - 6s 3s/step\n",
            "2/2 [==============================] - 6s 3s/step\n",
            "2/2 [==============================] - 4s 429ms/step\n",
            "[[143   8   0   2]\n",
            " [ 22 152   3   4]\n",
            " [  2   9 140   2]\n",
            " [  3   1   3 118]]\n",
            "Generating confusion matrix 196\n",
            "Found 196 images belonging to 4 classes.\n",
            "2/2 [==============================] - 6s 3s/step\n",
            "2/2 [==============================] - 7s 3s/step\n",
            "2/2 [==============================] - 6s 3s/step\n",
            "1/1 [==============================] - 0s 431ms/step\n",
            "[[44  2  1  2]\n",
            " [ 6 13  1  1]\n",
            " [ 4  0 45  0]\n",
            " [ 3  1  1 72]]\n"
          ]
        }
      ]
    },
    {
      "cell_type": "code",
      "source": [
        "plt.plot(r.history['loss'], label='train loss')\n",
        "plt.plot(r.history['val_loss'], label='val loss')\n",
        "plt.legend()\n",
        "plt.show()\n"
      ],
      "metadata": {
        "colab": {
          "base_uri": "https://localhost:8080/",
          "height": 265
        },
        "id": "ZmKXRND--zBi",
        "outputId": "52596899-72ca-42a8-f701-4197e414500f"
      },
      "execution_count": 37,
      "outputs": [
        {
          "output_type": "display_data",
          "data": {
            "text/plain": [
              "<Figure size 432x288 with 1 Axes>"
            ],
            "image/png": "[encoded data removed]"
          },
          "metadata": {
            "needs_background": "light"
          }
        }
      ]
    },
    {
      "cell_type": "code",
      "source": [
        "plt.plot(r.history['accuracy'], label='train acc')\n",
        "plt.plot(r.history['val_accuracy'], label='val acc')\n",
        "plt.legend()\n",
        "plt.show()\n"
      ],
      "metadata": {
        "colab": {
          "base_uri": "https://localhost:8080/",
          "height": 265
        },
        "id": "s8-uEu4K_cdZ",
        "outputId": "db1bd9d5-4707-499d-b495-ee216d984a18"
      },
      "execution_count": 38,
      "outputs": [
        {
          "output_type": "display_data",
          "data": {
            "text/plain": [
              "<Figure size 432x288 with 1 Axes>"
            ],
            "image/png": "[encoded data removed]"
          },
          "metadata": {
            "needs_background": "light"
          }
        }
      ]
    },
    {
      "cell_type": "code",
      "source": [],
      "metadata": {
        "id": "VgIa_63f_h2w"
      },
      "execution_count": null,
      "outputs": []
    }
  ]
}